{
 "cells": [
  {
   "cell_type": "code",
   "execution_count": 1,
   "id": "5bf071f5",
   "metadata": {},
   "outputs": [],
   "source": [
    "import pandas as pd\n",
    "import matplotlib.pyplot as plt\n",
    "from sklearn.model_selection import train_test_split\n",
    "from sklearn.metrics import accuracy_score,f1_score,confusion_matrix\n",
    "from sklearn.linear_model import LinearRegression\n",
    "from sklearn.tree import DecisionTreeRegressor\n",
    "from sklearn.tree import ExtraTreeRegressor\n",
    "from sklearn.ensemble import RandomForestRegressor\n",
    "from sklearn.ensemble import GradientBoostingRegressor\n",
    "from sklearn import metrics\n",
    "import numpy as np\n"
   ]
  },
  {
   "cell_type": "code",
   "execution_count": 2,
   "id": "e3febb83",
   "metadata": {},
   "outputs": [
    {
     "data": {
      "text/html": [
       "<div>\n",
       "<style scoped>\n",
       "    .dataframe tbody tr th:only-of-type {\n",
       "        vertical-align: middle;\n",
       "    }\n",
       "\n",
       "    .dataframe tbody tr th {\n",
       "        vertical-align: top;\n",
       "    }\n",
       "\n",
       "    .dataframe thead th {\n",
       "        text-align: right;\n",
       "    }\n",
       "</style>\n",
       "<table border=\"1\" class=\"dataframe\">\n",
       "  <thead>\n",
       "    <tr style=\"text-align: right;\">\n",
       "      <th></th>\n",
       "      <th>Date</th>\n",
       "      <th>Open</th>\n",
       "      <th>High</th>\n",
       "      <th>Low</th>\n",
       "      <th>Close</th>\n",
       "      <th>Adj Close</th>\n",
       "      <th>Volume</th>\n",
       "    </tr>\n",
       "  </thead>\n",
       "  <tbody>\n",
       "    <tr>\n",
       "      <th>0</th>\n",
       "      <td>2018-02-05</td>\n",
       "      <td>262.000000</td>\n",
       "      <td>267.899994</td>\n",
       "      <td>250.029999</td>\n",
       "      <td>254.259995</td>\n",
       "      <td>254.259995</td>\n",
       "      <td>11896100</td>\n",
       "    </tr>\n",
       "    <tr>\n",
       "      <th>1</th>\n",
       "      <td>2018-02-06</td>\n",
       "      <td>247.699997</td>\n",
       "      <td>266.700012</td>\n",
       "      <td>245.000000</td>\n",
       "      <td>265.720001</td>\n",
       "      <td>265.720001</td>\n",
       "      <td>12595800</td>\n",
       "    </tr>\n",
       "    <tr>\n",
       "      <th>2</th>\n",
       "      <td>2018-02-07</td>\n",
       "      <td>266.579987</td>\n",
       "      <td>272.450012</td>\n",
       "      <td>264.329987</td>\n",
       "      <td>264.559998</td>\n",
       "      <td>264.559998</td>\n",
       "      <td>8981500</td>\n",
       "    </tr>\n",
       "    <tr>\n",
       "      <th>3</th>\n",
       "      <td>2018-02-08</td>\n",
       "      <td>267.079987</td>\n",
       "      <td>267.619995</td>\n",
       "      <td>250.000000</td>\n",
       "      <td>250.100006</td>\n",
       "      <td>250.100006</td>\n",
       "      <td>9306700</td>\n",
       "    </tr>\n",
       "    <tr>\n",
       "      <th>4</th>\n",
       "      <td>2018-02-09</td>\n",
       "      <td>253.850006</td>\n",
       "      <td>255.800003</td>\n",
       "      <td>236.110001</td>\n",
       "      <td>249.470001</td>\n",
       "      <td>249.470001</td>\n",
       "      <td>16906900</td>\n",
       "    </tr>\n",
       "  </tbody>\n",
       "</table>\n",
       "</div>"
      ],
      "text/plain": [
       "         Date        Open        High         Low       Close   Adj Close  \\\n",
       "0  2018-02-05  262.000000  267.899994  250.029999  254.259995  254.259995   \n",
       "1  2018-02-06  247.699997  266.700012  245.000000  265.720001  265.720001   \n",
       "2  2018-02-07  266.579987  272.450012  264.329987  264.559998  264.559998   \n",
       "3  2018-02-08  267.079987  267.619995  250.000000  250.100006  250.100006   \n",
       "4  2018-02-09  253.850006  255.800003  236.110001  249.470001  249.470001   \n",
       "\n",
       "     Volume  \n",
       "0  11896100  \n",
       "1  12595800  \n",
       "2   8981500  \n",
       "3   9306700  \n",
       "4  16906900  "
      ]
     },
     "execution_count": 2,
     "metadata": {},
     "output_type": "execute_result"
    }
   ],
   "source": [
    "df = pd.read_csv(\"NFLX.csv\")\n",
    "df.head()"
   ]
  },
  {
   "cell_type": "code",
   "execution_count": 3,
   "id": "ae26c4e7",
   "metadata": {},
   "outputs": [
    {
     "data": {
      "text/plain": [
       "(1009, 7)"
      ]
     },
     "execution_count": 3,
     "metadata": {},
     "output_type": "execute_result"
    }
   ],
   "source": [
    "df.shape"
   ]
  },
  {
   "cell_type": "code",
   "execution_count": 4,
   "id": "279eaf21",
   "metadata": {},
   "outputs": [
    {
     "name": "stdout",
     "output_type": "stream",
     "text": [
      "<class 'pandas.core.frame.DataFrame'>\n",
      "RangeIndex: 1009 entries, 0 to 1008\n",
      "Data columns (total 7 columns):\n",
      " #   Column     Non-Null Count  Dtype  \n",
      "---  ------     --------------  -----  \n",
      " 0   Date       1009 non-null   object \n",
      " 1   Open       1009 non-null   float64\n",
      " 2   High       1009 non-null   float64\n",
      " 3   Low        1009 non-null   float64\n",
      " 4   Close      1009 non-null   float64\n",
      " 5   Adj Close  1009 non-null   float64\n",
      " 6   Volume     1009 non-null   int64  \n",
      "dtypes: float64(5), int64(1), object(1)\n",
      "memory usage: 55.3+ KB\n"
     ]
    }
   ],
   "source": [
    "df.info()"
   ]
  },
  {
   "cell_type": "code",
   "execution_count": null,
   "id": "ae5d52cb",
   "metadata": {},
   "outputs": [],
   "source": []
  },
  {
   "cell_type": "code",
   "execution_count": 5,
   "id": "367a0f40",
   "metadata": {},
   "outputs": [
    {
     "data": {
      "text/plain": [
       "array([[<AxesSubplot:title={'center':'Open'}>,\n",
       "        <AxesSubplot:title={'center':'High'}>],\n",
       "       [<AxesSubplot:title={'center':'Low'}>,\n",
       "        <AxesSubplot:title={'center':'Close'}>],\n",
       "       [<AxesSubplot:title={'center':'Adj Close'}>,\n",
       "        <AxesSubplot:title={'center':'Volume'}>]], dtype=object)"
      ]
     },
     "execution_count": 5,
     "metadata": {},
     "output_type": "execute_result"
    },
    {
     "data": {
      "image/png": "[encoded data removed]",
      "text/plain": [
       "<Figure size 720x504 with 6 Axes>"
      ]
     },
     "metadata": {
      "needs_background": "light"
     },
     "output_type": "display_data"
    }
   ],
   "source": [
    "df.hist(figsize = (10,7))"
   ]
  },
  {
   "cell_type": "code",
   "execution_count": 6,
   "id": "06e702c9",
   "metadata": {},
   "outputs": [
    {
     "data": {
      "text/plain": [
       "Date         0\n",
       "Open         0\n",
       "High         0\n",
       "Low          0\n",
       "Close        0\n",
       "Adj Close    0\n",
       "Volume       0\n",
       "dtype: int64"
      ]
     },
     "execution_count": 6,
     "metadata": {},
     "output_type": "execute_result"
    }
   ],
   "source": [
    "df.isnull().sum()\n"
   ]
  },
  {
   "cell_type": "code",
   "execution_count": 7,
   "id": "fb5570b6",
   "metadata": {},
   "outputs": [],
   "source": [
    "df['Date'] = pd.to_datetime(df['Date'])"
   ]
  },
  {
   "cell_type": "code",
   "execution_count": 8,
   "id": "47f337b3",
   "metadata": {},
   "outputs": [],
   "source": [
    "data = df[['Date', 'Close']]\n",
    "data = data.set_index('Date')"
   ]
  },
  {
   "cell_type": "code",
   "execution_count": 9,
   "id": "91963646",
   "metadata": {},
   "outputs": [
    {
     "data": {
      "image/png": "[encoded data removed]",
      "text/plain": [
       "<Figure size 1080x360 with 1 Axes>"
      ]
     },
     "metadata": {
      "needs_background": "light"
     },
     "output_type": "display_data"
    }
   ],
   "source": [
    "plt.figure(figsize = (15,5))\n",
    "data['Close'].plot();"
   ]
  },
  {
   "cell_type": "code",
   "execution_count": 10,
   "id": "b94bfda4",
   "metadata": {},
   "outputs": [
    {
     "data": {
      "text/html": [
       "<div>\n",
       "<style scoped>\n",
       "    .dataframe tbody tr th:only-of-type {\n",
       "        vertical-align: middle;\n",
       "    }\n",
       "\n",
       "    .dataframe tbody tr th {\n",
       "        vertical-align: top;\n",
       "    }\n",
       "\n",
       "    .dataframe thead th {\n",
       "        text-align: right;\n",
       "    }\n",
       "</style>\n",
       "<table border=\"1\" class=\"dataframe\">\n",
       "  <thead>\n",
       "    <tr style=\"text-align: right;\">\n",
       "      <th></th>\n",
       "      <th>Open</th>\n",
       "      <th>High</th>\n",
       "      <th>Low</th>\n",
       "      <th>Close</th>\n",
       "      <th>Adj Close</th>\n",
       "      <th>Volume</th>\n",
       "    </tr>\n",
       "  </thead>\n",
       "  <tbody>\n",
       "    <tr>\n",
       "      <th>Open</th>\n",
       "      <td>1.000000</td>\n",
       "      <td>0.998605</td>\n",
       "      <td>0.998508</td>\n",
       "      <td>0.996812</td>\n",
       "      <td>0.996812</td>\n",
       "      <td>-0.415838</td>\n",
       "    </tr>\n",
       "    <tr>\n",
       "      <th>High</th>\n",
       "      <td>0.998605</td>\n",
       "      <td>1.000000</td>\n",
       "      <td>0.998203</td>\n",
       "      <td>0.998551</td>\n",
       "      <td>0.998551</td>\n",
       "      <td>-0.400699</td>\n",
       "    </tr>\n",
       "    <tr>\n",
       "      <th>Low</th>\n",
       "      <td>0.998508</td>\n",
       "      <td>0.998203</td>\n",
       "      <td>1.000000</td>\n",
       "      <td>0.998544</td>\n",
       "      <td>0.998544</td>\n",
       "      <td>-0.432116</td>\n",
       "    </tr>\n",
       "    <tr>\n",
       "      <th>Close</th>\n",
       "      <td>0.996812</td>\n",
       "      <td>0.998551</td>\n",
       "      <td>0.998544</td>\n",
       "      <td>1.000000</td>\n",
       "      <td>1.000000</td>\n",
       "      <td>-0.413362</td>\n",
       "    </tr>\n",
       "    <tr>\n",
       "      <th>Adj Close</th>\n",
       "      <td>0.996812</td>\n",
       "      <td>0.998551</td>\n",
       "      <td>0.998544</td>\n",
       "      <td>1.000000</td>\n",
       "      <td>1.000000</td>\n",
       "      <td>-0.413362</td>\n",
       "    </tr>\n",
       "    <tr>\n",
       "      <th>Volume</th>\n",
       "      <td>-0.415838</td>\n",
       "      <td>-0.400699</td>\n",
       "      <td>-0.432116</td>\n",
       "      <td>-0.413362</td>\n",
       "      <td>-0.413362</td>\n",
       "      <td>1.000000</td>\n",
       "    </tr>\n",
       "  </tbody>\n",
       "</table>\n",
       "</div>"
      ],
      "text/plain": [
       "               Open      High       Low     Close  Adj Close    Volume\n",
       "Open       1.000000  0.998605  0.998508  0.996812   0.996812 -0.415838\n",
       "High       0.998605  1.000000  0.998203  0.998551   0.998551 -0.400699\n",
       "Low        0.998508  0.998203  1.000000  0.998544   0.998544 -0.432116\n",
       "Close      0.996812  0.998551  0.998544  1.000000   1.000000 -0.413362\n",
       "Adj Close  0.996812  0.998551  0.998544  1.000000   1.000000 -0.413362\n",
       "Volume    -0.415838 -0.400699 -0.432116 -0.413362  -0.413362  1.000000"
      ]
     },
     "execution_count": 10,
     "metadata": {},
     "output_type": "execute_result"
    }
   ],
   "source": [
    "df.corr()"
   ]
  },
  {
   "cell_type": "code",
   "execution_count": 11,
   "id": "4f424b01",
   "metadata": {},
   "outputs": [],
   "source": [
    "df.drop('Date',axis = 1,inplace=True)"
   ]
  },
  {
   "cell_type": "code",
   "execution_count": 12,
   "id": "74ce2698",
   "metadata": {},
   "outputs": [
    {
     "data": {
      "text/plain": [
       "Open           int32\n",
       "High         float64\n",
       "Low          float64\n",
       "Close        float64\n",
       "Adj Close    float64\n",
       "Volume         int64\n",
       "dtype: object"
      ]
     },
     "execution_count": 12,
     "metadata": {},
     "output_type": "execute_result"
    }
   ],
   "source": [
    "df.astype({'Open':'int32'}).dtypes\n"
   ]
  },
  {
   "cell_type": "code",
   "execution_count": 13,
   "id": "1e103cdc",
   "metadata": {},
   "outputs": [
    {
     "data": {
      "text/plain": [
       "Open         float64\n",
       "High           int32\n",
       "Low          float64\n",
       "Close        float64\n",
       "Adj Close    float64\n",
       "Volume         int64\n",
       "dtype: object"
      ]
     },
     "execution_count": 13,
     "metadata": {},
     "output_type": "execute_result"
    }
   ],
   "source": [
    "df.astype({'High':'int32'}).dtypes"
   ]
  },
  {
   "cell_type": "code",
   "execution_count": 14,
   "id": "81df1ecc",
   "metadata": {},
   "outputs": [
    {
     "data": {
      "text/plain": [
       "Open         float64\n",
       "High         float64\n",
       "Low            int32\n",
       "Close        float64\n",
       "Adj Close    float64\n",
       "Volume         int64\n",
       "dtype: object"
      ]
     },
     "execution_count": 14,
     "metadata": {},
     "output_type": "execute_result"
    }
   ],
   "source": [
    "df.astype({'Low':'int32'}).dtypes\n"
   ]
  },
  {
   "cell_type": "code",
   "execution_count": 15,
   "id": "e62a0758",
   "metadata": {},
   "outputs": [
    {
     "data": {
      "text/plain": [
       "Open         float64\n",
       "High         float64\n",
       "Low          float64\n",
       "Close          int32\n",
       "Adj Close    float64\n",
       "Volume         int64\n",
       "dtype: object"
      ]
     },
     "execution_count": 15,
     "metadata": {},
     "output_type": "execute_result"
    }
   ],
   "source": [
    "df.astype({'Close':'int32'}).dtypes"
   ]
  },
  {
   "cell_type": "code",
   "execution_count": 16,
   "id": "4f019f4b",
   "metadata": {},
   "outputs": [
    {
     "data": {
      "text/plain": [
       "Open         float64\n",
       "High         float64\n",
       "Low          float64\n",
       "Close        float64\n",
       "Adj Close      int32\n",
       "Volume         int64\n",
       "dtype: object"
      ]
     },
     "execution_count": 16,
     "metadata": {},
     "output_type": "execute_result"
    }
   ],
   "source": [
    "df.astype({'Adj Close':'int32'}).dtypes"
   ]
  },
  {
   "cell_type": "code",
   "execution_count": 17,
   "id": "0a232777",
   "metadata": {},
   "outputs": [],
   "source": [
    "x= df[['Open', 'High', 'Low', 'Close', 'Volume']]\n",
    "y= df['Adj Close']"
   ]
  },
  {
   "cell_type": "code",
   "execution_count": 18,
   "id": "df8eb21a",
   "metadata": {},
   "outputs": [
    {
     "data": {
      "text/plain": [
       "(1009,)"
      ]
     },
     "execution_count": 18,
     "metadata": {},
     "output_type": "execute_result"
    }
   ],
   "source": [
    "y.shape"
   ]
  },
  {
   "cell_type": "code",
   "execution_count": 19,
   "id": "524d08b2",
   "metadata": {},
   "outputs": [],
   "source": [
    "x_train,x_test,y_train,y_test = train_test_split(x,y,test_size = 0.2,random_state=42)"
   ]
  },
  {
   "cell_type": "code",
   "execution_count": 20,
   "id": "960aea52",
   "metadata": {},
   "outputs": [
    {
     "data": {
      "text/plain": [
       "(807, 5)"
      ]
     },
     "execution_count": 20,
     "metadata": {},
     "output_type": "execute_result"
    }
   ],
   "source": [
    "x_train.shape"
   ]
  },
  {
   "cell_type": "code",
   "execution_count": 21,
   "id": "8d9033f9",
   "metadata": {},
   "outputs": [
    {
     "data": {
      "text/plain": [
       "(202, 5)"
      ]
     },
     "execution_count": 21,
     "metadata": {},
     "output_type": "execute_result"
    }
   ],
   "source": [
    "x_test.shape"
   ]
  },
  {
   "cell_type": "code",
   "execution_count": 22,
   "id": "0eb18f38",
   "metadata": {},
   "outputs": [
    {
     "data": {
      "text/plain": [
       "(807,)"
      ]
     },
     "execution_count": 22,
     "metadata": {},
     "output_type": "execute_result"
    }
   ],
   "source": [
    "y_train.shape"
   ]
  },
  {
   "cell_type": "code",
   "execution_count": 23,
   "id": "2b04222c",
   "metadata": {},
   "outputs": [
    {
     "data": {
      "text/plain": [
       "(202,)"
      ]
     },
     "execution_count": 23,
     "metadata": {},
     "output_type": "execute_result"
    }
   ],
   "source": [
    "y_test.shape"
   ]
  },
  {
   "cell_type": "code",
   "execution_count": 24,
   "id": "13862e61",
   "metadata": {},
   "outputs": [],
   "source": [
    "from sklearn.preprocessing import StandardScaler\n",
    "scale = StandardScaler()\n",
    "x_train = scale.fit_transform(x_train)\n",
    "x_test = scale.transform(x_test)"
   ]
  },
  {
   "cell_type": "code",
   "execution_count": 25,
   "id": "9f52a001",
   "metadata": {},
   "outputs": [
    {
     "name": "stdout",
     "output_type": "stream",
     "text": [
      "[509.09103396 494.77252044 500.79392094 380.82340302 315.74103818\n",
      " 476.61390997 495.84035843 299.35507174 359.44540027 328.29349615\n",
      " 520.63764822 332.70945806 590.50469555 312.31417092 340.61134339\n",
      " 548.13738072 532.64775068 612.86382451 351.15961783 391.91598245\n",
      " 387.12746171 366.69711188 269.94423228 354.58610158 435.72562484\n",
      " 375.05780821 310.17676635 353.56921913 298.07260383 510.89866134\n",
      " 565.49584428 512.39867354 412.54456442 337.9801431  510.5603815\n",
      " 349.27155339 580.69022193 290.28510988 357.108641   365.47532664\n",
      " 353.49615374 349.56914792 343.34891923 613.17890871 371.04659007\n",
      " 361.43601276 310.48265126 629.89133297 505.64047171 547.95956442\n",
      " 495.54926627 523.01625473 313.30743787 488.84783341 421.87233397\n",
      " 568.95993234 309.34111316 307.13332469 331.75130957 317.55967174\n",
      " 511.08237996 276.99961278 278.73865515 482.52995345 515.97038033\n",
      " 335.88730744 294.18842886 286.29017708 344.82520364 628.9690292\n",
      " 415.22217235 263.03101075 275.19371798 339.35387751 524.78712971\n",
      " 368.99281107 311.7012205  635.27726884 283.78058082 438.92441424\n",
      " 484.6929785  367.62076158 329.60420136 358.74672115 326.47000054\n",
      " 582.01422202 486.58815025 490.75601348 363.94267524 539.86712322\n",
      " 467.25821965 658.21631691 427.21046192 280.17397511 561.48043157\n",
      " 384.26017981 299.20838123 336.98601278 363.68902739 326.2480531\n",
      " 503.78529905 452.68529955 276.22109686 483.63494549 395.86990391\n",
      " 367.65695096 502.96289318 522.25687012 626.22541449 672.07520854\n",
      " 501.53586468 525.18601921 514.57601352 525.58008745 371.0200285\n",
      " 360.36099664 530.61109431 359.98737246 378.97285892 427.2516014\n",
      " 327.55993392 519.04494808 293.81774928 518.06764005 359.90324629\n",
      " 329.13964808 363.70046843 686.94879679 282.99421535 339.27287233\n",
      " 484.87101191 482.36233988 520.52250282 293.16180158 426.23790033\n",
      " 315.71148517 305.75563428 355.00983695 336.03015025 316.20486532\n",
      " 324.42719779 298.44264136 339.59970008 297.13929159 481.70618814\n",
      " 593.74226175 595.50559376 289.93729282 375.14438173 380.62061528\n",
      " 348.23222444 533.87993885 513.94496169 337.56230315 554.12339067\n",
      " 656.4165138  681.90790603 598.22573015 348.776119   313.30687513\n",
      " 354.49907843 315.89691911 679.76872404 364.22757628 525.60658511\n",
      " 543.06786745 453.20131106 369.744062   524.55857421 374.24182065\n",
      " 345.66416514 326.01930963 325.94322632 364.9277785  398.73572641\n",
      " 298.68942498 504.41626713 364.08038094 359.83658833 361.82570842\n",
      " 379.92274171 294.30596397 293.92880751 502.4719055  357.65892572\n",
      " 271.23059392 493.32076362 338.06227083 380.059977   628.03118821\n",
      " 261.05504928 552.8792293  446.29263998 425.19021864 362.73214507\n",
      " 432.89402403 286.27179838 517.733852   355.89633487 277.02275279\n",
      " 369.76445863 349.42440069]\n",
      "(202,)\n"
     ]
    }
   ],
   "source": [
    "model = RandomForestRegressor(n_estimators=500, random_state=42, max_depth=10)\n",
    "model.fit(x_train, y_train)\n",
    "predict = model.predict(x_test)\n",
    "print(predict)\n",
    "print(predict.shape)"
   ]
  },
  {
   "cell_type": "code",
   "execution_count": 26,
   "id": "437135e2",
   "metadata": {},
   "outputs": [
    {
     "name": "stdout",
     "output_type": "stream",
     "text": [
      "Mean Absolute Error: 0.4696\n",
      "Mean Squared Error: 0.7737\n",
      "Root Mean Squared Error: 0.8796\n",
      "(R^2) Score: 0.9999\n",
      "Train Score : 100.00% and Test Score : 99.99% using Random Tree Regressor.\n",
      "Accuracy: 99.9 %.\n"
     ]
    }
   ],
   "source": [
    "print(\"Mean Absolute Error:\", round(metrics.mean_absolute_error(y_test, predict), 4))\n",
    "print(\"Mean Squared Error:\", round(metrics.mean_squared_error(y_test, predict), 4))\n",
    "print(\"Root Mean Squared Error:\", round(np.sqrt(metrics.mean_squared_error(y_test, predict)), 4))\n",
    "print(\"(R^2) Score:\", round(metrics.r2_score(y_test, predict), 4))\n",
    "print(f'Train Score : {model.score(x_train, y_train) * 100:.2f}% and Test Score : {model.score(x_test, y_test) * 100:.2f}% using Random Tree Regressor.')\n",
    "errors = abs(predict - y_test)\n",
    "mape = 100 * (errors / y_test)\n",
    "accuracy = 100 - np.mean(mape)\n",
    "print('Accuracy:', round(accuracy, 2), '%.') "
   ]
  },
  {
   "cell_type": "code",
   "execution_count": 27,
   "id": "c22bc252",
   "metadata": {},
   "outputs": [
    {
     "name": "stdout",
     "output_type": "stream",
     "text": [
      "[509.640015 494.730011 500.859985 380.070007 315.100006 476.26001\n",
      " 495.98999  298.839996 359.309998 328.190002 521.659973 332.700012\n",
      " 591.150024 312.48999  340.660004 547.919983 532.390015 612.090027\n",
      " 351.140015 391.429993 386.700012 366.420013 269.700012 354.640015\n",
      " 436.130005 375.220001 310.100006 353.369995 297.809998 510.720001\n",
      " 566.179993 512.73999  411.089996 338.049988 510.399994 349.290009\n",
      " 582.070007 290.299988 356.869995 365.359985 353.160004 349.920013\n",
      " 343.279999 614.090027 370.459991 361.410004 310.829987 634.809998\n",
      " 505.549988 547.580017 495.649994 522.419983 313.299988 488.880005\n",
      " 421.380005 565.169983 308.929993 307.019989 331.440002 317.5\n",
      " 510.820007 275.299988 278.549988 482.029999 515.840027 335.829987\n",
      " 294.179993 286.209991 345.089996 629.76001  415.630005 262.799988\n",
      " 274.459991 339.559998 524.830017 369.029999 311.690002 637.969971\n",
      " 283.670013 439.170013 484.980011 367.320007 329.600006 358.820007\n",
      " 326.459991 582.869995 486.690002 490.579987 363.920013 540.02002\n",
      " 466.26001  657.580017 426.700012 280.480011 563.590027 385.029999\n",
      " 299.829987 336.630005 363.829987 326.26001  503.859985 451.040009\n",
      " 274.880005 485.640015 396.720001 367.720001 502.859985 521.869995\n",
      " 628.080017 668.400024 501.769989 525.419983 514.72998  525.690002\n",
      " 370.540009 360.570007 530.869995 360.089996 378.809998 425.559998\n",
      " 327.730011 518.909973 293.119995 518.059998 359.910004 329.049988\n",
      " 363.649994 691.690002 283.109985 339.170013 485.230011 482.880005\n",
      " 520.549988 292.859985 427.140015 315.470001 305.76001  355.209991\n",
      " 336.299988 315.880005 324.179993 298.070007 339.850006 296.779999\n",
      " 481.790009 593.26001  597.98999  290.059998 375.5      380.549988\n",
      " 348.109985 533.97998  513.969971 337.589996 553.289978 655.98999\n",
      " 681.169983 598.719971 348.869995 313.359985 354.390015 315.25\n",
      " 677.719971 364.079987 525.75     542.950012 453.720001 370.079987\n",
      " 524.440002 374.230011 345.26001  325.899994 326.       364.970001\n",
      " 395.799988 298.5      504.579987 364.130005 359.970001 361.920013\n",
      " 379.959991 294.290009 293.350006 502.109985 358.       271.269989\n",
      " 493.369995 338.019989 379.929993 628.289978 260.579987 552.159973\n",
      " 447.769989 424.98999  362.440002 434.049988 286.130005 518.02002\n",
      " 355.730011 275.329987 370.019989 349.730011]\n",
      "(202,)\n"
     ]
    }
   ],
   "source": [
    "model1 = LinearRegression()\n",
    "model1.fit(x_train, y_train)\n",
    "predict = model1.predict(x_test)\n",
    "print(predict)\n",
    "print(predict.shape)"
   ]
  },
  {
   "cell_type": "code",
   "execution_count": 28,
   "id": "1b232c5f",
   "metadata": {},
   "outputs": [
    {
     "name": "stdout",
     "output_type": "stream",
     "text": [
      "Mean Absolute Error: 0.0\n",
      "Mean Squared Error: 0.0\n",
      "Root Mean Squared Error: 0.0\n",
      "(R^2) Score: 1.0\n",
      "Train Score : 100.00% and Test Score : 100.00% using Linear Regressor.\n",
      "Accuracy: 100.0 %.\n"
     ]
    }
   ],
   "source": [
    "print(\"Mean Absolute Error:\", round(metrics.mean_absolute_error(y_test, predict), 4))\n",
    "print(\"Mean Squared Error:\", round(metrics.mean_squared_error(y_test, predict), 4))\n",
    "print(\"Root Mean Squared Error:\", round(np.sqrt(metrics.mean_squared_error(y_test, predict)), 4))\n",
    "print(\"(R^2) Score:\", round(metrics.r2_score(y_test, predict), 4))\n",
    "print(f'Train Score : {model1.score(x_train, y_train) * 100:.2f}% and Test Score : {model1.score(x_test, y_test) * 100:.2f}% using Linear Regressor.')\n",
    "errors = abs(predict - y_test)\n",
    "mape = 100 * (errors / y_test)\n",
    "accuracy = 100 - np.mean(mape)\n",
    "print('Accuracy:', round(accuracy, 2), '%.') "
   ]
  },
  {
   "cell_type": "code",
   "execution_count": 29,
   "id": "0059f0a9",
   "metadata": {},
   "outputs": [
    {
     "name": "stdout",
     "output_type": "stream",
     "text": [
      "[510.799988 494.25     500.48999  380.01001  317.920013 476.890015\n",
      " 494.660004 299.109985 359.459991 328.529999 520.799988 332.700012\n",
      " 586.72998  312.279999 339.730011 547.820007 531.789978 611.659973\n",
      " 351.040009 399.390015 387.149994 368.769989 269.579987 354.609985\n",
      " 436.529999 371.070007 309.98999  353.399994 294.399994 510.299988\n",
      " 569.190002 512.659973 411.890015 338.380005 510.299988 349.100006\n",
      " 586.340027 290.390015 356.559998 365.48999  353.190002 349.190002\n",
      " 343.429993 613.119995 372.279999 361.399994 310.839996 633.799988\n",
      " 507.76001  547.820007 494.660004 520.809998 313.980011 488.769989\n",
      " 424.679993 567.52002  309.100006 306.700012 333.160004 317.380005\n",
      " 510.299988 285.809998 278.519989 482.839996 515.919983 333.160004\n",
      " 294.149994 288.029999 344.709991 627.039978 414.769989 263.309998\n",
      " 272.790009 339.5      524.890015 368.700012 311.690002 639.\n",
      " 285.809998 440.519989 485.       367.880005 330.299988 358.779999\n",
      " 326.399994 583.849976 483.859985 490.649994 363.910004 540.219971\n",
      " 473.079987 654.059998 426.75     281.859985 559.070007 384.480011\n",
      " 300.690002 337.48999  364.709991 326.459991 503.839996 449.869995\n",
      " 272.790009 468.040009 387.779999 366.959991 503.059998 520.799988\n",
      " 627.039978 679.330017 501.339996 526.27002  515.409973 524.890015\n",
      " 369.75     359.970001 531.049988 360.299988 379.059998 429.320007\n",
      " 327.5      518.909973 293.75     518.909973 359.970001 328.899994\n",
      " 361.01001  690.309998 280.290009 342.880005 485.       487.350006\n",
      " 520.650024 293.25     426.75     315.440002 305.160004 355.809998\n",
      " 336.059998 317.920013 323.309998 296.929993 339.730011 298.929993\n",
      " 482.839996 592.640015 592.640015 289.619995 374.850006 380.709991\n",
      " 348.519989 533.5      514.25     337.450012 553.72998  664.780029\n",
      " 679.330017 599.059998 348.519989 313.980011 354.450012 317.920013\n",
      " 679.330017 361.01001  525.5      541.940002 452.579987 369.01001\n",
      " 524.890015 373.25     345.559998 325.929993 326.130005 364.709991\n",
      " 390.390015 298.98999  502.410004 364.709991 359.929993 361.809998\n",
      " 379.23999  295.76001  284.839996 503.179993 357.119995 270.940002\n",
      " 493.480011 338.380005 379.059998 627.039978 254.259995 551.340027\n",
      " 441.950012 427.309998 362.660004 428.149994 288.029999 517.570007\n",
      " 355.809998 285.809998 369.429993 349.100006]\n",
      "(202,)\n"
     ]
    }
   ],
   "source": [
    "model2 = ExtraTreeRegressor()\n",
    "model2.fit(x_train, y_train)\n",
    "predict = model2.predict(x_test)\n",
    "print(predict)\n",
    "print(predict.shape)"
   ]
  },
  {
   "cell_type": "code",
   "execution_count": 30,
   "id": "b3c8db7e",
   "metadata": {},
   "outputs": [
    {
     "name": "stdout",
     "output_type": "stream",
     "text": [
      "Mean Absolute Error: 1.4274\n",
      "Mean Squared Error: 7.4645\n",
      "Root Mean Squared Error: 2.7321\n",
      "(R^2) Score: 0.9994\n",
      "Train Score : 100.00% and Test Score : 99.94% using Extra tree Regressor.\n",
      "Accuracy: 99.64 %.\n"
     ]
    }
   ],
   "source": [
    "print(\"Mean Absolute Error:\", round(metrics.mean_absolute_error(y_test, predict), 4))\n",
    "print(\"Mean Squared Error:\", round(metrics.mean_squared_error(y_test, predict), 4))\n",
    "print(\"Root Mean Squared Error:\", round(np.sqrt(metrics.mean_squared_error(y_test, predict)), 4))\n",
    "print(\"(R^2) Score:\", round(metrics.r2_score(y_test, predict), 4))\n",
    "print(f'Train Score : {model2.score(x_train, y_train) * 100:.2f}% and Test Score : {model2.score(x_test, y_test) * 100:.2f}% using Extra tree Regressor.')\n",
    "errors = abs(predict - y_test)\n",
    "mape = 100 * (errors / y_test)\n",
    "accuracy = 100 - np.mean(mape)\n",
    "print('Accuracy:', round(accuracy, 2), '%.') "
   ]
  },
  {
   "cell_type": "code",
   "execution_count": 31,
   "id": "dab31ea1",
   "metadata": {},
   "outputs": [
    {
     "name": "stdout",
     "output_type": "stream",
     "text": [
      "[508.2697613  494.23003357 500.48353601 380.44110541 314.85526097\n",
      " 476.13960627 497.5820391  298.84822028 360.00943319 328.52306313\n",
      " 519.95855758 332.37233978 590.30525768 312.4501116  342.5165217\n",
      " 548.00394198 532.25427308 610.85208481 351.38449893 391.57366308\n",
      " 388.70429562 367.86170726 269.4910789  354.99334109 439.16288873\n",
      " 375.02759202 310.45099792 353.61471859 298.75657111 513.08130059\n",
      " 568.13717532 512.6577518  411.36282198 337.48208804 508.44784881\n",
      " 348.81461085 583.41973735 289.44719268 356.95483156 364.75202337\n",
      " 353.59416716 348.81304089 342.80144311 613.35745732 370.42355844\n",
      " 361.09058241 310.379468   632.5171198  504.67151671 548.27719085\n",
      " 497.60853353 523.67815438 313.26175122 489.21294556 422.00901385\n",
      " 568.03597087 308.62980636 308.28202241 332.27810366 317.64367485\n",
      " 513.07842492 276.24230335 277.88061896 482.22899394 516.01665824\n",
      " 336.61494187 294.32130236 286.43690431 344.99291606 631.81197465\n",
      " 415.23592274 263.54874355 276.13197727 338.87571084 525.14126056\n",
      " 369.16093073 312.38297153 638.12775269 282.79249895 439.19822833\n",
      " 484.76695068 367.91956564 328.62607393 358.1846568  326.42045581\n",
      " 583.52850596 488.16953496 491.58595966 364.08284417 540.18211502\n",
      " 465.96797633 657.84194825 431.71047569 280.66574095 561.46334447\n",
      " 382.11347941 298.68581309 336.61933172 364.03478235 326.13382145\n",
      " 503.90717227 453.82512482 276.11421341 484.6076389  397.41713559\n",
      " 367.78755078 503.31156549 523.76939422 625.62329995 669.95031094\n",
      " 501.5378317  525.4547522  515.64246854 525.2105637  370.41614932\n",
      " 360.00943319 530.85823083 360.06867598 380.4557892  431.73102711\n",
      " 328.07981471 519.7697318  293.36841089 516.12382001 360.04616436\n",
      " 328.49486366 363.57317403 689.78232911 282.81213908 338.92452691\n",
      " 484.64260455 482.31038165 520.11910568 293.23228691 425.84240266\n",
      " 315.70434512 305.18351275 354.98293426 336.61282965 316.01934307\n",
      " 322.877566   298.72106992 338.92452691 295.34492871 481.23060674\n",
      " 595.60206246 595.97542187 289.46828929 375.09054626 380.44110541\n",
      " 348.56638001 534.26443025 513.94233289 337.47660913 553.95638853\n",
      " 654.32580796 681.9564276  599.30883422 348.62213103 313.26175122\n",
      " 355.00623619 315.67793577 678.72456348 364.25824914 525.43094804\n",
      " 542.53544371 453.83840968 369.84278852 523.39525688 373.37316038\n",
      " 345.56042571 326.13336984 325.98662461 364.73524206 396.64238581\n",
      " 298.76398969 504.51628908 364.2051216  359.98631571 361.09813695\n",
      " 380.34853442 294.36007386 292.85966892 501.63506893 358.07655988\n",
      " 271.18455406 493.11444482 337.49076935 380.44851454 626.29513304\n",
      " 261.7235304  553.89614929 445.85626223 425.74977729 363.3847363\n",
      " 425.73793416 286.34110838 516.12535605 356.01953271 276.12289472\n",
      " 369.93755294 348.82053932]\n",
      "(202,)\n"
     ]
    }
   ],
   "source": [
    "model3 = GradientBoostingRegressor()\n",
    "model3.fit(x_train, y_train)\n",
    "predict = model3.predict(x_test)\n",
    "print(predict)\n",
    "print(predict.shape)"
   ]
  },
  {
   "cell_type": "code",
   "execution_count": 32,
   "id": "3ba8a91b",
   "metadata": {},
   "outputs": [
    {
     "name": "stdout",
     "output_type": "stream",
     "text": [
      "Mean Absolute Error: 0.7975\n",
      "Mean Squared Error: 1.6186\n",
      "Root Mean Squared Error: 1.2722\n",
      "(R^2) Score: 0.9999\n",
      "Train Score : 100.00% and Test Score : 99.99% using Gradient boost Regressor.\n",
      "Accuracy: 99.81 %.\n"
     ]
    }
   ],
   "source": [
    "print(\"Mean Absolute Error:\", round(metrics.mean_absolute_error(y_test, predict), 4))\n",
    "print(\"Mean Squared Error:\", round(metrics.mean_squared_error(y_test, predict), 4))\n",
    "print(\"Root Mean Squared Error:\", round(np.sqrt(metrics.mean_squared_error(y_test, predict)), 4))\n",
    "print(\"(R^2) Score:\", round(metrics.r2_score(y_test, predict), 4))\n",
    "print(f'Train Score : {model3.score(x_train, y_train) * 100:.2f}% and Test Score : {model3.score(x_test, y_test) * 100:.2f}% using Gradient boost Regressor.')\n",
    "errors = abs(predict - y_test)\n",
    "mape = 100 * (errors / y_test)\n",
    "accuracy = 100 - np.mean(mape)\n",
    "print('Accuracy:', round(accuracy, 2), '%.') "
   ]
  },
  {
   "cell_type": "code",
   "execution_count": null,
   "id": "37dc183e",
   "metadata": {},
   "outputs": [],
   "source": []
  },
  {
   "cell_type": "code",
   "execution_count": null,
   "id": "3497ef5a",
   "metadata": {},
   "outputs": [],
   "source": []
  },
  {
   "cell_type": "code",
   "execution_count": null,
   "id": "b5f2ca9d",
   "metadata": {},
   "outputs": [],
   "source": []
  }
 ],
 "metadata": {
  "kernelspec": {
   "display_name": "Python 3 (ipykernel)",
   "language": "python",
   "name": "python3"
  },
  "language_info": {
   "codemirror_mode": {
    "name": "ipython",
    "version": 3
   },
   "file_extension": ".py",
   "mimetype": "text/x-python",
   "name": "python",
   "nbconvert_exporter": "python",
   "pygments_lexer": "ipython3",
   "version": "3.9.12"
  }
 },
 "nbformat": 4,
 "nbformat_minor": 5
}
